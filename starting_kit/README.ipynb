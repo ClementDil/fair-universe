{
 "cells": [
  {
   "attachments": {},
   "cell_type": "markdown",
   "metadata": {},
   "source": [
    "<div>\n",
    "<img src=\"logo.jpg\" width=150 ALIGN=\"left\" style='margin-right:10px; border-style: solid; border-width: 2px;' alt='logo'>\n",
    "<h1>Starting Kit - Fair-Universe </h1>\n",
    "<h3>Background and Signal events classification</h3>\n",
    "<br>\n",
    "<p>\n",
    "This starting kit will guide you step by step and will walk you through the data statistics and\n",
    "examples. This will give you a clear idea of what this challenge is about and how you can\n",
    "proceed further to solve the challenge.\n",
    "</p>\n",
    "\n",
    "<br>\n",
    "<hr style='background-color: #D3D3D3; height: 1px; border: 0;'>\n",
    "<p>\n",
    "This code was tested with Python 3.10.7 | MSC v.1933 64 bit (AMD64) | (default, Jan 23 2023, 14:12:02) <br>\n",
    "</p>\n",
    "<hr style='background-color: #D3D3D3; height: 1px; border: 0;'>\n",
    "    \n",
    "<p>\n",
    "ALL INFORMATION, SOFTWARE, DOCUMENTATION, AND DATA ARE PROVIDED \"AS-IS\". The CHALEARN, AND/OR OTHER ORGANIZERS OR CODE AUTHORS DISCLAIM ANY EXPRESSED OR IMPLIED WARRANTIES, INCLUDING, BUT NOT LIMITED TO, THE IMPLIED WARRANTIES OF MERCHANTABILITY AND FITNESS FOR ANY PARTICULAR PURPOSE, AND THE WARRANTY OF NON-INFRIGEMENT OF ANY THIRD PARTY'S INTELLECTUAL PROPERTY RIGHTS. IN NO EVENT SHALL AUTHORS AND ORGANIZERS BE LIABLE FOR ANY SPECIAL, \n",
    "INDIRECT OR CONSEQUENTIAL DAMAGES OR ANY DAMAGES WHATSOEVER ARISING OUT OF OR IN CONNECTION WITH THE USE OR PERFORMANCE OF SOFTWARE, DOCUMENTS, MATERIALS, PUBLICATIONS, OR INFORMATION MADE AVAILABLE FOR THE CHALLENGE. \n",
    "</p>\n",
    "\n",
    "<hr style='background-color: #D3D3D3; height: 1px; border: 0;'>\n",
    "    <p>\n",
    "This is a tabular data challenge for <b>Creation of an AI Challenge class</b> at  <b><a style='color: #62023C;' href='https://www.universite-paris-saclay.fr/'>Université Paris Saclay</a></b>\n",
    "</p>\n",
    "</div>\n",
    "\n",
    "<hr style='background-color: #D3D3D3; height: 1px; border: 0;'>"
   ]
  },
  {
   "attachments": {},
   "cell_type": "markdown",
   "metadata": {},
   "source": [
    "## Introduction\n",
    "\n",
    "High energy physicists at CERN use simulations in order to reproduce collisions that occurs in the LHC. Collisions between particles create thousands of smaller particles. Once they developped a theory which predicts the existence of a new particle, physicists run these simulations and seek for evidences of the new particle. To do so, they classify all the particles resulting from a collision between background particles (uninteresting ones that they already know) and signal particles (the ones they are interested in). This is why high-energy physicists are working increasingly closely with machine learning scientists.\n",
    "\n",
    "To perform this classifications task they are tens of available features about each particle (such as its speed, its energy or some angles measurements). However, the simulations are prone to systematic biases and so it is for the data used for classification, which makes the task harder. Thus, a big challenge is to remove this biases from the data in order to improve the accuracy of classification.\n",
    "\n",
    "The Fair Universe challenge is a toy-exemple for this problem. Instead of working in a high-dimensional feature space, we consider 2D points that belongs either to signal or background class. The aim is to build a model that classifies them correctly.\n",
    "<hr style='background-color: #D3D3D3; height: 1px; border: 0;'>\n",
    "More formaly, this challenge uses 2-features and 1-class datasets\n",
    "    \n",
    "The datasets conistst of some points (or events) features:\n",
    "1. `x1` for $x_1$-coordinate\n",
    "2. `x2` for $x_2$-coordinate\n",
    "\n",
    "The `y` column shows the class of the point : either 1 for signal or 0 for background. \n",
    "<hr style='background-color: #D3D3D3; height: 1px; border: 0;'>\n",
    "However, the data is plagued with bias. That is, there is a nuisance parameter that affects the points coordinates. For this starting-kit, we assume :\n",
    "\n",
    "1. **the nuisance parameter affects all the points in the same way** (with no regard to their class)\n",
    "2. the bias is just diagonal translation. That is, if we call $z$ the value of this nuisance parameter, then the actual coordinates in the dataset of each point $(x_1,x_2)$ is $(x_1+z,x_2+z)$\n",
    "\n",
    "Then, one would legitimately want to simply remove $z$ to the coordinates of each point, but here is the trick : **the value of the nuisance parameter is unknown**\n",
    "<hr style='background-color: #D3D3D3; height: 1px; border: 0;'>\n",
    "\n",
    "**References and credits:**  \n",
    "\n",
    " - Université Paris Saclay (https://www.universite-paris-saclay.fr/)  \n",
    " - ChaLearn (http://www.chalearn.org/)  \n",
    "***"
   ]
  },
  {
   "cell_type": "markdown",
   "metadata": {},
   "source": [
    "### Formalism (can be skipped in first-reading)"
   ]
  },
  {
   "cell_type": "markdown",
   "metadata": {},
   "source": [
    "Let a **task** be a tuple $\\left(p,\\sigma_b,\\sigma_s,\\theta,l,\\tau\\right)$. \n",
    "\n",
    "Given a task $T$, we call **parameter** each element of $T$.\n",
    "\n",
    "A context is a tuple $(\\sigma,\\theta,l)$.\n",
    "\n",
    "Given a context $C=(\\sigma,\\theta,l)$, a **point generated in the context of $C$** is the realization of a random variable that follows a bivariate Gaussian law of parameters $(l\\cos\\theta,l\\sin\\theta)$ and $\\begin{bmatrix}\n",
    "    \\sigma&0\\\\\n",
    "    0&\\sigma\n",
    "\\end{bmatrix}$\n",
    "\n",
    "Given a nuisance direction $\\alpha$ and a nuisance value $z$, let $\\tau_{\\alpha,z} : (\\hat{x_1},\\hat{x_2}) \\mapsto (x_1,x_2) := (x_1+z\\cos\\alpha,x_2+z\\sin\\alpha)$.\n",
    "\n",
    "Given a context $C$, $\\alpha$ and $z$, a **labelled event for $z$ in the direction $\\alpha$ in the context $C$** is a tuple $(x_1,x_2,c)$, where $(x_1,x_2)$ is the image by $\\tau_{\\alpha,z}$ of a point generated in the context of $C$.\n",
    "\n",
    "Given a task $T = \\left(p,\\sigma_b,\\sigma_s,\\theta,l,\\tau\\right)$ and $z$, a **dataset for $T$ plagued by $z$** is a set containing $2000p$ labelled events for $z$ in the direction $\\alpha$ in the context $(\\sigma_b,\\theta,l)$ and $2000(1-p)$ labelled events for $z$ in the direction $\\alpha$ in the context $(\\sigma_s,\\theta,l)$.\n",
    "\n",
    "For each labelled event $(x_1,x_2,c)$, we define its associated **event** $(x_1,x_2)$ and its **class** $c$.\n",
    "\n",
    "The aim of this challenge is to build a learning model that, for any task, most accurately predicts the class of events no matter what nuisance value was used to generate them."
   ]
  },
  {
   "cell_type": "markdown",
   "metadata": {},
   "source": [
    "That is, your model has to be :\n",
    "- in one hand, insensitive to the nuisance parameter $z$\n",
    "- in the other hand, compliant to any task."
   ]
  },
  {
   "attachments": {},
   "cell_type": "markdown",
   "metadata": {},
   "source": [
    "***\n",
    "### Summary\n",
    "The aim is to classify 2D data-points into signal or background classes. To do so, you are provided with several datasets, generated with different values of the nuissance parameter $z$. \n",
    "\n",
    "***"
   ]
  },
  {
   "attachments": {},
   "cell_type": "markdown",
   "metadata": {},
   "source": [
    "## Imports"
   ]
  },
  {
   "cell_type": "code",
   "execution_count": 1,
   "metadata": {},
   "outputs": [],
   "source": [
    "import os\n",
    "import numpy as np\n",
    "import pandas as pd\n",
    "from sys import path\n",
    "\n",
    "import warnings\n",
    "warnings.simplefilter(action='ignore', category=FutureWarning)\n",
    "\n",
    "# %matplotlib inline\n",
    "# import matplotlib.pyplot as plt\n",
    "# from sklearn.inspection import DecisionBoundaryDisplay\n",
    "\n",
    "\n",
    "# # Uncomment the next lines to auto-reload libraries (this causes some problem with pickles in Python 3)\n",
    "# %load_ext autoreload\n",
    "# %autoreload 2\n",
    "# import seaborn as sns; sns.set()\n",
    "# %reload_ext autoreload\n"
   ]
  },
  {
   "attachments": {},
   "cell_type": "markdown",
   "metadata": {},
   "source": [
    "## Directories"
   ]
  },
  {
   "cell_type": "code",
   "execution_count": 2,
   "metadata": {},
   "outputs": [],
   "source": [
    "model_dir = 'sample_code_submission/'\n",
    "result_dir = 'sample_result_submission/' \n",
    "problem_dir = 'ingestion_program/'  \n",
    "score_dir = 'scoring_program/'"
   ]
  },
  {
   "attachments": {},
   "cell_type": "markdown",
   "metadata": {},
   "source": [
    "### Add directories to path"
   ]
  },
  {
   "cell_type": "code",
   "execution_count": 3,
   "metadata": {},
   "outputs": [],
   "source": [
    "path.append(model_dir) \n",
    "path.append(problem_dir)\n",
    "path.append(score_dir)"
   ]
  },
  {
   "cell_type": "markdown",
   "metadata": {},
   "source": [
    "## First step"
   ]
  },
  {
   "cell_type": "markdown",
   "metadata": {},
   "source": [
    "### Import Data"
   ]
  },
  {
   "cell_type": "code",
   "execution_count": 4,
   "metadata": {},
   "outputs": [],
   "source": [
    "from data_io import load_data, show_data_statistics, write"
   ]
  },
  {
   "cell_type": "code",
   "execution_count": 5,
   "metadata": {},
   "outputs": [],
   "source": [
    "data_name = 'fair_universe_challenge'\n",
    "data_dir = 'public_data' "
   ]
  },
  {
   "cell_type": "code",
   "execution_count": 6,
   "metadata": {
    "scrolled": false
   },
   "outputs": [
    {
     "name": "stdout",
     "output_type": "stream",
     "text": [
      "###-------------------------------------###\n",
      "### Data Loading\n",
      "###-------------------------------------###\n",
      "[*] data dir :  public_data\n",
      "[*] train dir :  public_data/train\n",
      "[*] test dir :  public_data/test\n",
      "[+] train dir found\n",
      "[+] test dir found\n",
      "[+] 3 train sets found\n",
      "[+] 3 test sets found\n",
      "[+] 3 train sets loaded\n",
      "[+] 3 test sets loaded\n"
     ]
    }
   ],
   "source": [
    "train_sets, test_sets = load_data(data_dir)"
   ]
  },
  {
   "attachments": {},
   "cell_type": "markdown",
   "metadata": {},
   "source": [
    "### Data Statistics"
   ]
  },
  {
   "cell_type": "code",
   "execution_count": 7,
   "metadata": {},
   "outputs": [
    {
     "name": "stdout",
     "output_type": "stream",
     "text": [
      "###-------------------------------------###\n",
      "### Data Statistics Train\n",
      "###-------------------------------------###\n",
      "-------------------\n",
      "Train Set 1\n",
      "-------------------\n",
      "[*] Total points:  2000\n",
      "[*] Background points:  1800\n",
      "[*] Signal points:  200\n",
      "-------------------\n",
      "Train Set 2\n",
      "-------------------\n",
      "[*] Total points:  2000\n",
      "[*] Background points:  1800\n",
      "[*] Signal points:  200\n",
      "-------------------\n",
      "Train Set 3\n",
      "-------------------\n",
      "[*] Total points:  2000\n",
      "[*] Background points:  1800\n",
      "[*] Signal points:  200\n"
     ]
    }
   ],
   "source": [
    "show_data_statistics(train_sets, name=\"Train\")"
   ]
  },
  {
   "cell_type": "code",
   "execution_count": 8,
   "metadata": {},
   "outputs": [
    {
     "name": "stdout",
     "output_type": "stream",
     "text": [
      "###-------------------------------------###\n",
      "### Data Statistics Test\n",
      "###-------------------------------------###\n",
      "-------------------\n",
      "Train Set 1\n",
      "-------------------\n",
      "[*] Total points:  2000\n",
      "[*] Background points:  1800\n",
      "[*] Signal points:  200\n",
      "-------------------\n",
      "Train Set 2\n",
      "-------------------\n",
      "[*] Total points:  2000\n",
      "[*] Background points:  1800\n",
      "[*] Signal points:  200\n",
      "-------------------\n",
      "Train Set 3\n",
      "-------------------\n",
      "[*] Total points:  2000\n",
      "[*] Background points:  1800\n",
      "[*] Signal points:  200\n"
     ]
    }
   ],
   "source": [
    "show_data_statistics(test_sets, name=\"Test\")"
   ]
  },
  {
   "cell_type": "markdown",
   "metadata": {},
   "source": [
    "### Data explanation"
   ]
  },
  {
   "cell_type": "markdown",
   "metadata": {},
   "source": [
    "We provide `sample_data` with the starting kit, but to prepare your submission, you must fetch the `public_data` from the challenge website and point to it."
   ]
  },
  {
   "cell_type": "markdown",
   "metadata": {},
   "source": [
    "Just as high energy physicists can run their simulations as many time as they need, a particularity of this challenge is that along with some sample pieces of data, we provide you with python functions that allow you to generate your own data. It means you will be able to introduce the bias into the data with any value you want of the nuisance parameter.\n",
    "\n",
    "<hr style='background-color: #D3D3D3; height: 1px; border: 0;'>\n",
    "\n",
    "We mentionned earlier that the value of the nuisance parameter remains unknown. It will be true for the test set : your model will not be provided the value of the nuisance parameter. Thus, we encourage you not to let your model know about the value you use to generate the data you train it on. Moreover, when they run the simulations, physicists don't know the value of the nuisance parameter, and since this challenge is about helping physicists to solve a problem, it's better to come up with a solution that fits their working conditions as much as possible.\n",
    "\n",
    "<hr style='background-color: #D3D3D3; height: 1px; border: 0;'>\n",
    "\n",
    "`train_sets_list` is a list of 3 train sets each of which is generated with a different value of the nuisance parameter. The dataset at index :\n",
    "- 0 was generated with z=0.5\n",
    "- 1 was generated with z=1.4\n",
    "- 2 was generated with z=1.8\n",
    "\n",
    "`test_sets_list` is a list of 3 test sets each of which is generated with a different value of the nuisance parameter that we don't provide you with.\n",
    "\n",
    "<hr style='background-color: #D3D3D3; height: 1px; border: 0;'>\n",
    "\n",
    "Each dataset contains two clusters of points, one of which corresponds to the signal points while the other one contains background points. To generate the points of each cluster, we use 2D-Gaussian random distribution."
   ]
  },
  {
   "cell_type": "markdown",
   "metadata": {},
   "source": [
    "In the plots below, red points represent signal events and blue points represent background events. All the points from test sets are black because their class is unknown. "
   ]
  },
  {
   "cell_type": "code",
   "execution_count": 9,
   "metadata": {},
   "outputs": [
    {
     "data": {
      "image/png": "[encoded data removed]",
      "text/plain": [
       "<Figure size 1500x1000 with 6 Axes>"
      ]
     },
     "metadata": {},
     "output_type": "display_data"
    }
   ],
   "source": [
    "from visualize import show_train_test\n",
    "\n",
    "show_train_test(train_sets,test_sets,save_figure=True)"
   ]
  },
  {
   "cell_type": "markdown",
   "metadata": {},
   "source": [
    "In the train sets, we observe that there are far more background points than signal ones. This proportion reflects a struggle of real-life physic scenarios : the vast majority of particles is already known and there is only a few of them worth caring about.\n",
    "\n",
    "<hr style='background-color: #D3D3D3; height: 1px; border: 0;'>\n",
    "\n",
    "More precisely, each dataset contains $1800$ background points and $200$ signal points"
   ]
  },
  {
   "attachments": {},
   "cell_type": "markdown",
   "metadata": {},
   "source": [
    "***\n",
    "## Baselines\n",
    "***"
   ]
  },
  {
   "attachments": {},
   "cell_type": "markdown",
   "metadata": {},
   "source": [
    "In this section, we introduced three baselinse to tackle the problem:\n",
    "\n",
    "- Dumb baseline (doing nothing)\n",
    "- Naive Bayes without data augmentation\n",
    "- Naive Bayes with data augmentation"
   ]
  },
  {
   "attachments": {},
   "cell_type": "markdown",
   "metadata": {},
   "source": [
    "### Dumb Baseline\n",
    "Here we have a dubm model which does not train and produces predictions which are just zeros"
   ]
  },
  {
   "attachments": {},
   "cell_type": "markdown",
   "metadata": {},
   "source": [
    "**Load Model**"
   ]
  },
  {
   "cell_type": "code",
   "execution_count": 10,
   "metadata": {},
   "outputs": [],
   "source": [
    "# Import Dumb baseline\n",
    "from dumb import Model\n",
    "\n",
    "# Load Dumb baseline\n",
    "dumb_model = Model()"
   ]
  },
  {
   "attachments": {},
   "cell_type": "markdown",
   "metadata": {},
   "source": [
    "**Load Data**"
   ]
  },
  {
   "cell_type": "code",
   "execution_count": 11,
   "metadata": {},
   "outputs": [],
   "source": [
    "# Load Test Data\n",
    "X_Tests = [test_set.drop('y', axis=1) for test_set in test_sets]\n",
    "Y_Tests = [test_set[\"y\"] for test_set in test_sets]"
   ]
  },
  {
   "attachments": {},
   "cell_type": "markdown",
   "metadata": {},
   "source": [
    "**Get Predictions**"
   ]
  },
  {
   "cell_type": "code",
   "execution_count": 12,
   "metadata": {},
   "outputs": [],
   "source": [
    "# Get Predictions\n",
    "dumb_Y_hat_tests = [dumb_model.predict(X_Test) for X_Test in X_Tests]"
   ]
  },
  {
   "attachments": {},
   "cell_type": "markdown",
   "metadata": {},
   "source": [
    "**Save Predictions**"
   ]
  },
  {
   "cell_type": "code",
   "execution_count": 13,
   "metadata": {},
   "outputs": [],
   "source": [
    "# result directory \n",
    "predictions_dir = os.path.join(result_dir, \"dumb\")\n",
    "\n",
    "# create result directory if not created\n",
    "if not os.path.exists(predictions_dir):\n",
    "    os.mkdir(predictions_dir) \n",
    "\n",
    "\n",
    "for index, dumb_Y_hat_test in enumerate(dumb_Y_hat_tests) :\n",
    "    # result file name\n",
    "    result_name = os.path.join(predictions_dir, \"test_\"+ str(index+1) + \".predictions\")\n",
    "    # save result\n",
    "    write(result_name, dumb_Y_hat_test)"
   ]
  },
  {
   "attachments": {},
   "cell_type": "markdown",
   "metadata": {},
   "source": [
    "### Naive Bayes\n",
    "Here we have a Naive Bayes Model which trains on one train dataset and is tested on all three test sets."
   ]
  },
  {
   "attachments": {},
   "cell_type": "markdown",
   "metadata": {},
   "source": [
    "**Load Model**"
   ]
  },
  {
   "cell_type": "code",
   "execution_count": 14,
   "metadata": {},
   "outputs": [],
   "source": [
    "# Import Naive Bayes baseline\n",
    "from naive import Model"
   ]
  },
  {
   "attachments": {},
   "cell_type": "markdown",
   "metadata": {},
   "source": [
    "**Load Data**"
   ]
  },
  {
   "cell_type": "code",
   "execution_count": 15,
   "metadata": {},
   "outputs": [],
   "source": [
    "# Train set\n",
    "X_Trains = [train_set.drop('y', axis=1) for train_set in train_sets]\n",
    "Y_Trains = [train_set[\"y\"] for train_set in train_sets]\n",
    "\n",
    "# Test set\n",
    "X_Tests = [test_set.drop('y', axis=1) for test_set in test_sets]\n",
    "Y_Tests = [test_set[\"y\"] for test_set in test_sets]"
   ]
  },
  {
   "attachments": {},
   "cell_type": "markdown",
   "metadata": {},
   "source": [
    "**Model Name**"
   ]
  },
  {
   "cell_type": "code",
   "execution_count": 16,
   "metadata": {},
   "outputs": [],
   "source": [
    "# Load Trained model \n",
    "trained_naive_model_name = model_dir + data_name + \"_naive\" # Model Name to load trained model\n",
    "# my_naive_model = naive_bayes_model.load(trained_naive_model_name) # Reload saved model                    "
   ]
  },
  {
   "attachments": {},
   "cell_type": "markdown",
   "metadata": {},
   "source": [
    "**Train and Get Predictions**"
   ]
  },
  {
   "cell_type": "code",
   "execution_count": 17,
   "metadata": {},
   "outputs": [],
   "source": [
    "nb_Y_hat_tests = []\n",
    "for index, _ in enumerate(X_Trains):\n",
    "\n",
    "    # Load Model\n",
    "    naive_bayes_model = Model()\n",
    "\n",
    "    # Train model if not trained\n",
    "    if not(naive_bayes_model.is_trained):\n",
    "        naive_bayes_model.fit(X_Trains[index], Y_Trains[index]) \n",
    "\n",
    "    # Get Predictions\n",
    "    nb_Y_hat_tests.append(naive_bayes_model.predict(X_Tests[index]))"
   ]
  },
  {
   "attachments": {},
   "cell_type": "markdown",
   "metadata": {},
   "source": [
    "**Save Model**"
   ]
  },
  {
   "cell_type": "code",
   "execution_count": 18,
   "metadata": {},
   "outputs": [],
   "source": [
    "# Save Model\n",
    "naive_bayes_model.save(trained_naive_model_name)"
   ]
  },
  {
   "attachments": {},
   "cell_type": "markdown",
   "metadata": {},
   "source": [
    "**Save Predictions**"
   ]
  },
  {
   "cell_type": "code",
   "execution_count": 19,
   "metadata": {},
   "outputs": [],
   "source": [
    "# result directory \n",
    "predictions_dir = os.path.join(result_dir, \"naive_bayes\")\n",
    "\n",
    "# create result directory if not created\n",
    "if not os.path.exists(predictions_dir):\n",
    "    os.mkdir(predictions_dir) \n",
    "\n",
    "\n",
    "for index, nb_Y_hat_test in enumerate(nb_Y_hat_tests) :\n",
    "    # result file name\n",
    "    result_name = os.path.join(predictions_dir, \"test_\"+ str(index+1) + \".predictions\")\n",
    "    # save result\n",
    "    write(result_name, nb_Y_hat_test)"
   ]
  },
  {
   "attachments": {},
   "cell_type": "markdown",
   "metadata": {},
   "source": [
    "### Naive Bayes - Data Augmentation\n",
    "Here we have a Naive Bayes Model which trains on the augmented train datasets and is tested on all three test sets."
   ]
  },
  {
   "cell_type": "markdown",
   "metadata": {},
   "source": [
    "**Load Model**"
   ]
  },
  {
   "cell_type": "markdown",
   "metadata": {},
   "source": []
  },
  {
   "cell_type": "code",
   "execution_count": 21,
   "metadata": {},
   "outputs": [],
   "source": [
    "# Import Naive Bayes baseline\n",
    "from augmented_naive import Model"
   ]
  },
  {
   "cell_type": "markdown",
   "metadata": {},
   "source": [
    "**Load Data**"
   ]
  },
  {
   "cell_type": "code",
   "execution_count": 22,
   "metadata": {},
   "outputs": [],
   "source": [
    "# Train set\n",
    "X_Trains = [train_set.drop('y', axis=1) for train_set in train_sets]\n",
    "Y_Trains = [train_set[\"y\"] for train_set in train_sets]\n",
    "\n",
    "# Test set\n",
    "X_Tests = [test_set.drop('y', axis=1) for test_set in test_sets]\n",
    "Y_Tests = [test_set[\"y\"] for test_set in test_sets]"
   ]
  },
  {
   "cell_type": "markdown",
   "metadata": {},
   "source": [
    "**Train Model**"
   ]
  },
  {
   "cell_type": "code",
   "execution_count": 23,
   "metadata": {},
   "outputs": [],
   "source": [
    "# Load Trained model \n",
    "trained_augmented_naive_model_name = model_dir + data_name + \"_augmented_naive\" # Model Name to load trained model\n",
    "# my_naive_model = naive_bayes_model.load(trained_naive_model_name) # Reload saved model                     "
   ]
  },
  {
   "cell_type": "markdown",
   "metadata": {},
   "source": [
    "**Get Predictions**"
   ]
  },
  {
   "cell_type": "code",
   "execution_count": 26,
   "metadata": {},
   "outputs": [],
   "source": [
    "aug_nb_Y_hat_tests = []\n",
    "for index, _ in enumerate(X_Trains):\n",
    "\n",
    "    # Load Model\n",
    "    augmented_naive_bayes_model = Model()\n",
    "\n",
    "    # Train model if not trained\n",
    "    if not(augmented_naive_bayes_model.is_trained):\n",
    "        augmented_naive_bayes_model.fit(X_Trains[index], X_Tests[index], Y_Trains[index]) \n",
    "\n",
    "    # Get Predictions\n",
    "    aug_nb_Y_hat_tests.append(augmented_naive_bayes_model.predict(X_Tests[index]))\n",
    "\n"
   ]
  },
  {
   "cell_type": "markdown",
   "metadata": {},
   "source": [
    "**Save Model**"
   ]
  },
  {
   "cell_type": "code",
   "execution_count": 27,
   "metadata": {},
   "outputs": [],
   "source": [
    "# Save Model\n",
    "augmented_naive_bayes_model.save(trained_augmented_naive_model_name)"
   ]
  },
  {
   "cell_type": "markdown",
   "metadata": {},
   "source": [
    "**Save Predictions**"
   ]
  },
  {
   "cell_type": "code",
   "execution_count": 28,
   "metadata": {},
   "outputs": [],
   "source": [
    "# result directory \n",
    "predictions_dir = os.path.join(result_dir, \"augmented_naive_bayes\")\n",
    "\n",
    "# create result directory if not created\n",
    "if not os.path.exists(predictions_dir):\n",
    "    os.mkdir(predictions_dir) \n",
    "\n",
    "\n",
    "for index, aug_nb_Y_hat_test in enumerate(aug_nb_Y_hat_tests) :\n",
    "    # result file name\n",
    "    result_name = os.path.join(predictions_dir, \"test_\"+ str(index+1) + \".predictions\")\n",
    "    # save result\n",
    "    write(result_name, aug_nb_Y_hat_test)"
   ]
  },
  {
   "cell_type": "code",
   "execution_count": 58,
   "metadata": {},
   "outputs": [],
   "source": [
    "# boundary_decisions_plot = show_boundary_decisions(my_augmented_model,\n",
    "#                                                   pd.concat(train_sets_list),\n",
    "#                                                   pd.concat(test_sets_list),\n",
    "#                                                   True)"
   ]
  },
  {
   "attachments": {},
   "cell_type": "markdown",
   "metadata": {},
   "source": [
    "***\n",
    "## Score and Comparisons\n",
    "***"
   ]
  },
  {
   "cell_type": "markdown",
   "metadata": {},
   "source": [
    "In this section, we evaluate the two baselines using AUC score. AUC stands for \"Area Under the Curve\". And the curve under which we measure the area is the ROC curve (Receiver Operating Characteristic curve). For two-classes classification, this curve is the plot of the true positive rate (TPR) as a function of the false positive rate (FPR) for all the values of a decision threshold.\n",
    "\n",
    "**True Positive Rate**  (**TPR**) is a synonym for recall and is therefore defined as follows:\n",
    "$$\n",
    "TPR = \\frac{TP}{TP+FN}\n",
    "$$\n",
    "**False Positive Rate**  (**FPR**) is defined as follows:\n",
    "$$\n",
    "FPR = \\frac{FP}{FP+TN}\n",
    "$$\n",
    "\n",
    "<div style=\"text-align: center\">\n",
    "<img src=\"https://developers.google.com/static/machine-learning/crash-course/images/ROCCurve.svg\" width=\"400\"/>\n",
    "<br>\n",
    "ROC Curve showing TPR vs. FPR at different classification thresholds\n",
    "</div>\n",
    "\n",
    "For example, if we assume that a model's output is kind of a probability (a real number between $0$ and $1$) that the input is in signal class, then you can set a threshold $t$, and decide to classify an input as signal iff the ouput probility is greater than $t$. For each value of $t$, this defines both a TPR($t$) and a FPR($t$). Then the points of the ROC curve have coordinates (FPR($t$),TPR($t$)) for all $t$ between $0$ and $1$.\n",
    "\n",
    "<div style=\"text-align: center\">\n",
    "<img src=\"https://developers.google.com/static/machine-learning/crash-course/images/AUC.svg\" width=\"400\"/>\n",
    "<br>\n",
    "AUC (Area under the ROC Curve)\n",
    "</div>\n",
    "\n",
    "AUC provides an aggregate measure of performance across all possible classification thresholds. One way of interpreting AUC is as the probability that the model ranks a random positive example more highly than a random negative example. AUC ranges in value from 0 to 1. A model whose predictions are 100% wrong has an AUC of 0.0; one whose predictions are 100% correct has an AUC of 1.0.\n",
    "\n",
    "<hr style='background-color: #D3D3D3; height: 1px; border: 0;'>\n",
    "\n",
    "Source : https://developers.google.com/machine-learning/crash-course/classification/roc-and-auc?hl=fr"
   ]
  },
  {
   "cell_type": "code",
   "execution_count": 27,
   "metadata": {},
   "outputs": [
    {
     "name": "stdout",
     "output_type": "stream",
     "text": [
      "Using scoring metric: auc_score\n"
     ]
    }
   ],
   "source": [
    "from libscores import get_metric\n",
    "metric_name, scoring_function = get_metric()\n",
    "print('Using scoring metric:', metric_name)"
   ]
  },
  {
   "cell_type": "code",
   "execution_count": 28,
   "metadata": {},
   "outputs": [],
   "source": [
    "\n",
    "dumb_scores, naive_scores, augmented_naive_scores = [], [], []\n",
    "\n",
    "for index in range(len(dumb_Y_hat_tests)) :\n",
    "\n",
    "    # Dumb predictions\n",
    "    result_name = os.path.join(result_dir, \"dumb\", \"test_\"+ str(index+1) + \".predictions\")\n",
    "    dumb_Y_hat_test = pd.read_csv(result_name, header=None)\n",
    "    dumb_score = scoring_function(Y_Tests[index], dumb_Y_hat_test)\n",
    "    dumb_scores.append(dumb_score)\n",
    "\n",
    "    # Naive predictions\n",
    "    result_name = os.path.join(result_dir, \"naive_bayes\", \"test_\"+ str(index+1) + \".predictions\")\n",
    "    naive_Y_hat_test = pd.read_csv(result_name, header=None)\n",
    "    naive_score = scoring_function(Y_Tests[index], naive_Y_hat_test)\n",
    "    naive_scores.append(naive_score)\n",
    "\n",
    "    # Augmented Naive predictions\n",
    "    result_name = os.path.join(result_dir, \"augmented_naive_bayes\", \"test_\"+ str(index+1) + \".predictions\")\n",
    "    augmented_naive_Y_hat_test = pd.read_csv(result_name, header=None)\n",
    "    augmented_naive_score = scoring_function(Y_Tests[index], augmented_naive_Y_hat_test)\n",
    "    augmented_naive_scores.append(augmented_naive_score)"
   ]
  },
  {
   "cell_type": "code",
   "execution_count": 29,
   "metadata": {},
   "outputs": [
    {
     "data": {
      "text/html": [
       "<div>\n",
       "<style scoped>\n",
       "    .dataframe tbody tr th:only-of-type {\n",
       "        vertical-align: middle;\n",
       "    }\n",
       "\n",
       "    .dataframe tbody tr th {\n",
       "        vertical-align: top;\n",
       "    }\n",
       "\n",
       "    .dataframe thead th {\n",
       "        text-align: right;\n",
       "    }\n",
       "</style>\n",
       "<table border=\"1\" class=\"dataframe\">\n",
       "  <thead>\n",
       "    <tr style=\"text-align: right;\">\n",
       "      <th></th>\n",
       "      <th>test_set 1</th>\n",
       "      <th>test_set 2</th>\n",
       "      <th>test_set 3</th>\n",
       "    </tr>\n",
       "  </thead>\n",
       "  <tbody>\n",
       "    <tr>\n",
       "      <th>dumb model</th>\n",
       "      <td>0.500000</td>\n",
       "      <td>0.500000</td>\n",
       "      <td>0.500000</td>\n",
       "    </tr>\n",
       "    <tr>\n",
       "      <th>naive model</th>\n",
       "      <td>0.862778</td>\n",
       "      <td>0.937222</td>\n",
       "      <td>0.942778</td>\n",
       "    </tr>\n",
       "    <tr>\n",
       "      <th>augmented naive model</th>\n",
       "      <td>0.867500</td>\n",
       "      <td>0.935556</td>\n",
       "      <td>0.940833</td>\n",
       "    </tr>\n",
       "  </tbody>\n",
       "</table>\n",
       "</div>"
      ],
      "text/plain": [
       "                       test_set 1  test_set 2  test_set 3\n",
       "dumb model               0.500000    0.500000    0.500000\n",
       "naive model              0.862778    0.937222    0.942778\n",
       "augmented naive model    0.867500    0.935556    0.940833"
      ]
     },
     "execution_count": 29,
     "metadata": {},
     "output_type": "execute_result"
    }
   ],
   "source": [
    "score_df = pd.DataFrame([dumb_scores, naive_scores, augmented_naive_scores],\n",
    "                        index = [\"dumb model\", \"naive model\",\"augmented naive model\"],\n",
    "                        columns = [\"test_set 1\",\"test_set 2\",\"test_set 3\"])\n",
    "score_df.to_csv(\"scoring_output/individual_test_scores.csv\")\n",
    "score_df"
   ]
  },
  {
   "cell_type": "code",
   "execution_count": 30,
   "metadata": {},
   "outputs": [
    {
     "data": {
      "text/html": [
       "<div>\n",
       "<style scoped>\n",
       "    .dataframe tbody tr th:only-of-type {\n",
       "        vertical-align: middle;\n",
       "    }\n",
       "\n",
       "    .dataframe tbody tr th {\n",
       "        vertical-align: top;\n",
       "    }\n",
       "\n",
       "    .dataframe thead th {\n",
       "        text-align: right;\n",
       "    }\n",
       "</style>\n",
       "<table border=\"1\" class=\"dataframe\">\n",
       "  <thead>\n",
       "    <tr style=\"text-align: right;\">\n",
       "      <th></th>\n",
       "      <th>average test score</th>\n",
       "    </tr>\n",
       "  </thead>\n",
       "  <tbody>\n",
       "    <tr>\n",
       "      <th>dumb model</th>\n",
       "      <td>0.500000</td>\n",
       "    </tr>\n",
       "    <tr>\n",
       "      <th>naive model</th>\n",
       "      <td>0.914259</td>\n",
       "    </tr>\n",
       "    <tr>\n",
       "      <th>augmented naive model</th>\n",
       "      <td>0.914630</td>\n",
       "    </tr>\n",
       "  </tbody>\n",
       "</table>\n",
       "</div>"
      ],
      "text/plain": [
       "                       average test score\n",
       "dumb model                       0.500000\n",
       "naive model                      0.914259\n",
       "augmented naive model            0.914630"
      ]
     },
     "execution_count": 30,
     "metadata": {},
     "output_type": "execute_result"
    }
   ],
   "source": [
    "average_test_score = pd.DataFrame([np.mean(dumb_scores),np.mean(naive_scores), np.mean(augmented_naive_scores)],\n",
    "                                  index = [\"dumb model\", \"naive model\",\"augmented naive model\"],\n",
    "                                  columns=[\"average test score\"])\n",
    "average_test_score.to_csv(\"scoring_output/average_test_scores.csv\")\n",
    "average_test_score"
   ]
  },
  {
   "cell_type": "markdown",
   "metadata": {},
   "source": [
    "## Submission"
   ]
  },
  {
   "cell_type": "markdown",
   "metadata": {},
   "source": [
    "### Unit testing\n",
    "\n",
    "It is <b><span style=\"color:red\">important that you test your submission files before submitting them</span></b>. All you have to do to make a submission is modify the file <code>model.py</code> in the <code>sample_code_submission/</code> directory, then run this test to make sure everything works fine. This is the actual program that will be run on the server to test your submission. \n",
    "<br>\n",
    "Keep the sample code simple.<br>\n",
    "\n",
    "<code>python3</code> is required for this step"
   ]
  },
  {
   "cell_type": "markdown",
   "metadata": {},
   "source": [
    "Here we only generate the submission for the augmented model."
   ]
  },
  {
   "cell_type": "code",
   "execution_count": 25,
   "metadata": {},
   "outputs": [
    {
     "name": "stdout",
     "output_type": "stream",
     "text": [
      "###-------------------------------------###\n",
      "### Using metric :  auc_score\n",
      "###-------------------------------------###\n",
      "\n",
      "\n",
      "###-------------------------------------###\n",
      "### Test solutions :  2000\n",
      "###-------------------------------------###\n",
      "\n",
      "\n",
      "### Test solutions :  2000\n",
      "###-------------------------------------###\n",
      "\n",
      "\n",
      "### Test solutions :  2000\n",
      "###-------------------------------------###\n",
      "\n",
      "\n",
      "###-------------------------------------###\n",
      "### Solutions files are ready!\n",
      "###-------------------------------------###\n",
      "\n",
      "\n",
      "======= Set 1 (Fair_universe_challenge_test_0): auc_score(set_score)=0.946666666667 =======\n",
      "======= Set 2 (Fair_universe_challenge_test_1): auc_score(set_score)=0.920833333333 =======\n",
      "======= Set 3 (Fair_universe_challenge_test_2): auc_score(set_score)=0.844722222222 =======\n"
     ]
    }
   ],
   "source": [
    "scoring_output_dir = 'scoring_output'\n",
    "solution_dir = \"reference_data\"\n",
    "# !source activate deeplearning; \n",
    "!python $score_dir/score.py $solution_dir $result_dir $scoring_output_dir"
   ]
  },
  {
   "cell_type": "markdown",
   "metadata": {},
   "source": [
    "### Prepare the submission"
   ]
  },
  {
   "cell_type": "code",
   "execution_count": 26,
   "metadata": {
    "scrolled": true
   },
   "outputs": [
    {
     "name": "stdout",
     "output_type": "stream",
     "text": [
      "Submit this file to codalab:\n",
      "../sample_code_submission_23-02-08-18-58.zip\n"
     ]
    }
   ],
   "source": [
    "import datetime \n",
    "from data_io import zipdir\n",
    "the_date = datetime.datetime.now().strftime(\"%y-%m-%d-%H-%M\")\n",
    "sample_code_submission = '../sample_code_submission_' + the_date + '.zip'\n",
    "# sample_result_submission = '../sample_result_submission_' + the_date + '.zip'\n",
    "zipdir(sample_code_submission, model_dir)\n",
    "# zipdir(sample_result_submission, result_dir)\n",
    "print(\"Submit this file to codalab:\\n\" + sample_code_submission)"
   ]
  },
  {
   "cell_type": "markdown",
   "metadata": {},
   "source": [
    "## Conclusion"
   ]
  },
  {
   "cell_type": "markdown",
   "metadata": {},
   "source": [
    "Now the data is in your hands. You have seen two baseline models to tackle the problem. Now it's your turn to experiment with your own strategies and to come up with better strategies than us :) "
   ]
  },
  {
   "cell_type": "code",
   "execution_count": null,
   "metadata": {},
   "outputs": [],
   "source": []
  }
 ],
 "metadata": {
  "kernelspec": {
   "display_name": "meta-album",
   "language": "python",
   "name": "python3"
  },
  "language_info": {
   "codemirror_mode": {
    "name": "ipython",
    "version": 3
   },
   "file_extension": ".py",
   "mimetype": "text/x-python",
   "name": "python",
   "nbconvert_exporter": "python",
   "pygments_lexer": "ipython3",
   "version": "3.10.9"
  },
  "vscode": {
   "interpreter": {
    "hash": "c9e001b0608738f9411416229c98988c04b997dc526fb61c5e4e084e768e3249"
   }
  }
 },
 "nbformat": 4,
 "nbformat_minor": 4
}
